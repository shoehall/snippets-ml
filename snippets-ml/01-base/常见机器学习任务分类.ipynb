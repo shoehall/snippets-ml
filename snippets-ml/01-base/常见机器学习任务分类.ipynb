{
 "cells": [
  {
   "cell_type": "markdown",
   "metadata": {
    "collapsed": true,
    "pycharm": {
     "name": "#%% md\n"
    }
   },
   "source": [
    "涉及:\n",
    "\n",
    "- 回归\n",
    "\n",
    "- 分类\n",
    "\n",
    "- 序列标注\n",
    "\n",
    "- 时间序列预测\n",
    "\n",
    "- 层次分类\n",
    "\n",
    "- 多标签\n",
    "\n",
    "- 多任务\n",
    "\n",
    "- 聚类\n",
    "\n",
    "- 表征学习\n",
    "\n",
    "- 有序学习\n",
    "\n",
    "- 频繁模式挖掘\n",
    "\n",
    "\n",
    "\n",
    "此外还有一些分析和辅助决策算法:\n",
    "- 统计分析\n",
    "- 特征选择\n",
    "- 因果推断\n",
    "- 偏差消除\n",
    "\n",
    "\n",
    "todo: 每一个进行简介并举个例子"
   ]
  },
  {
   "cell_type": "code",
   "execution_count": null,
   "outputs": [],
   "source": [],
   "metadata": {
    "collapsed": false,
    "pycharm": {
     "name": "#%%\n"
    }
   }
  }
 ],
 "metadata": {
  "kernelspec": {
   "display_name": "Python 3",
   "language": "python",
   "name": "python3"
  },
  "language_info": {
   "codemirror_mode": {
    "name": "ipython",
    "version": 2
   },
   "file_extension": ".py",
   "mimetype": "text/x-python",
   "name": "python",
   "nbconvert_exporter": "python",
   "pygments_lexer": "ipython2",
   "version": "2.7.6"
  }
 },
 "nbformat": 4,
 "nbformat_minor": 0
}
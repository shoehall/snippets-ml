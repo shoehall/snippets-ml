{
 "cells": [
  {
   "cell_type": "markdown",
   "metadata": {
    "collapsed": true,
    "pycharm": {
     "name": "#%% md\n"
    }
   },
   "source": [
    "# 卷积神经网络\n",
    "卷积是深度学习中的一种非常有代表性的结构，卷积起源于1998年Yann LeCun的LeNet，当时应用于手写数字识别。只有AlexNet(2012)在ImageNet在图像分类中表现卓越，之后又有VGG Net（2014），GoogleNet（2014），ResNet（2015），Xception（2017），DenseNet（2018）\n",
    "\n",
    "几篇不错的参考:\n",
    "https://arxiv.org/ftp/arxiv/papers/1901/1901.06032.pdf\n",
    "https://blog.csdn.net/weixin_44259490/article/details/104915223\n",
    "https://www.lablab.top/post/the-evolution-of-the-convolutional-neural-networks-architecture/\n",
    "http://www.xml-data.org/JSJYY/2016-9-2508.html\n",
    "https://hub.baai.ac.cn/view/22612\n",
    "https://www.aminer.cn/research_report/5eb4d52eab6e30e67b2c98b3"
   ]
  }
 ],
 "metadata": {
  "kernelspec": {
   "display_name": "Python 3",
   "language": "python",
   "name": "python3"
  },
  "language_info": {
   "codemirror_mode": {
    "name": "ipython",
    "version": 2
   },
   "file_extension": ".py",
   "mimetype": "text/x-python",
   "name": "python",
   "nbconvert_exporter": "python",
   "pygments_lexer": "ipython2",
   "version": "2.7.6"
  }
 },
 "nbformat": 4,
 "nbformat_minor": 0
}
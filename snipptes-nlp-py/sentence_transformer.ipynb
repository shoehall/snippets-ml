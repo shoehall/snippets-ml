{
 "cells": [
  {
   "cell_type": "markdown",
   "source": [
    "# sentence transformer"
   ],
   "metadata": {
    "collapsed": false,
    "pycharm": {
     "name": "#%% md\n"
    }
   }
  },
  {
   "cell_type": "code",
   "execution_count": 1,
   "outputs": [
    {
     "name": "stdout",
     "output_type": "stream",
     "text": [
      "建筑:互联网智能化\n",
      "教育:全自动敲鸡蛋机\n",
      "垂直领域硬件:顺德中式烧烤/烤串\n",
      "专精特新小巨人企业:互联网智能化\n",
      "金融:连续面团分割机\n",
      "工具软件:仪器设备\n",
      "O2O:B2C\n",
      "技术推广服务:全自动敲鸡蛋机\n",
      "2020年中关村瞪羚企业:医疗器械2017“佛系”PRI指数早期投资榜单—房产家居\n",
      "B2C:制造业\n",
      "制造业:顺德中式烧烤/烤串\n",
      "房产家居:佛山东南亚菜\n",
      "仪器设备:互联网智能化\n",
      "新工业:顺德中式烧烤/烤串\n",
      "医疗器械2017“佛系”PRI指数早期投资榜单—房产家居:拼团类社会化电商\n",
      "互联网智能化:拼团类社会化电商\n",
      "佛山东南亚菜:佛山小吃快餐\n",
      "食品机械:全自动敲鸡蛋机\n",
      "全自动敲鸡蛋机:自动鸡蛋分离器\n",
      "自动鸡蛋分离器:连续面团分割机\n",
      "连续面团分割机:顺德中式烧烤/烤串\n",
      "亚马逊系:佛山小吃快餐\n",
      "榨汁机:顺德中式烧烤/烤串\n",
      "顺德中式烧烤/烤串:佛山小吃快餐\n",
      "佛山小吃快餐:佳莱国际\n",
      "拼团类社会化电商:佳莱国际\n"
     ]
    }
   ],
   "source": [
    "import numpy as np\n",
    "\n",
    "from sentence_transformers import SentenceTransformer\n",
    "\n",
    "sbert_model_path = 'E:\\\\studio\\\\models\\\\sbert\\\\stsb-roberta-large'\n",
    "sbert_model = SentenceTransformer(sbert_model_path)\n",
    "\n",
    "word_list = [\n",
    "    '建筑',\n",
    "    '教育',\n",
    "    '垂直领域硬件',\n",
    "    '专精特新小巨人企业',\n",
    "    '金融',\n",
    "    '工具软件',\n",
    "    'O2O',\n",
    "    '技术推广服务',\n",
    "    '2020年中关村瞪羚企业',\n",
    "    'B2C',\n",
    "    '制造业',\n",
    "    '房产家居',\n",
    "    '仪器设备',\n",
    "    '新工业',\n",
    "    '医疗器械'\n",
    "    '2017“佛系”PRI指数早期投资榜单—房产家居',\n",
    "    '互联网智能化',\n",
    "    '佛山东南亚菜',\n",
    "    '食品机械',\n",
    "    '全自动敲鸡蛋机',\n",
    "    '自动鸡蛋分离器',\n",
    "    '连续面团分割机',\n",
    "    '亚马逊系',\n",
    "    '榨汁机',\n",
    "    '顺德中式烧烤/烤串',\n",
    "    '佛山小吃快餐',\n",
    "    '拼团类社会化电商',\n",
    "    '佳莱国际'\n",
    "]\n",
    "\n",
    "vectors = sbert_model.encode(word_list)\n",
    "for i in range(len(word_list)):\n",
    "    word = word_list[i]\n",
    "    vv = []\n",
    "    vv_idx = range(i + 1, len(word_list))\n",
    "    for j in vv_idx:\n",
    "        vv.append(np.dot(vectors[j], vectors[i]))\n",
    "    if len(vv):\n",
    "        idx = np.argmax(np.array(vv))\n",
    "        print(word + ':' + word_list[vv_idx[idx]])"
   ],
   "metadata": {
    "collapsed": false,
    "pycharm": {
     "name": "#%%\n"
    }
   }
  }
 ],
 "metadata": {
  "kernelspec": {
   "display_name": "Python 3",
   "language": "python",
   "name": "python3"
  },
  "language_info": {
   "codemirror_mode": {
    "name": "ipython",
    "version": 2
   },
   "file_extension": ".py",
   "mimetype": "text/x-python",
   "name": "python",
   "nbconvert_exporter": "python",
   "pygments_lexer": "ipython2",
   "version": "2.7.6"
  }
 },
 "nbformat": 4,
 "nbformat_minor": 0
}
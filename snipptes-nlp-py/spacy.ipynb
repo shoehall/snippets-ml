{
 "cells": [
  {
   "cell_type": "markdown",
   "source": [
    "# A trip of Spacy\n",
    "\n",
    "参考:\n",
    "https://github.com/explosion/spacy-course/"
   ],
   "metadata": {
    "collapsed": false,
    "pycharm": {
     "name": "#%% md\n"
    }
   }
  },
  {
   "cell_type": "markdown",
   "source": [
    "spacy embedding"
   ],
   "metadata": {
    "collapsed": false
   }
  },
  {
   "cell_type": "code",
   "execution_count": null,
   "outputs": [],
   "source": [
    "import numpy as np\n",
    "import spacy\n",
    "\n",
    "nlp = spacy.load(\"zh_core_web_sm\")\n",
    "\n",
    "doc = nlp('独角兽企业')\n",
    "\n",
    "word_list = [\n",
    "    '建筑',\n",
    "    '教育',\n",
    "    '垂直领域硬件',\n",
    "    '专精特新小巨人企业',\n",
    "    '金融',\n",
    "    '工具软件',\n",
    "    'O2O',\n",
    "    '技术推广服务',\n",
    "    '2020年中关村瞪羚企业',\n",
    "    'B2C',\n",
    "    '制造业',\n",
    "    '房产家居',\n",
    "    '仪器设备',\n",
    "    '新工业',\n",
    "    '医疗器械'\n",
    "    '2017“佛系”PRI指数早期投资榜单—房产家居',\n",
    "    '互联网智能化',\n",
    "    '佛山东南亚菜',\n",
    "    '食品机械',\n",
    "    '全自动敲鸡蛋机',\n",
    "    '自动鸡蛋分离器',\n",
    "    '连续面团分割机',\n",
    "    '亚马逊系',\n",
    "    '榨汁机',\n",
    "    '顺德中式烧烤/烤串',\n",
    "    '佛山小吃快餐',\n",
    "    '拼团类社会化电商',\n",
    "    '佳莱国际'\n",
    "]\n",
    "\n",
    "vectors = [nlp(word).vector / nlp(word).vector_norm for word in word_list]\n",
    "for i in range(len(word_list)):\n",
    "    word = word_list[i]\n",
    "    vv = []\n",
    "    vv_idx = range(i + 1, len(word_list))\n",
    "    for j in vv_idx:\n",
    "        vv.append(np.dot(vectors[j], vectors[i]))\n",
    "    if len(vv):\n",
    "        idx = np.argmax(np.array(vv))\n",
    "        print(word + ':' + word_list[vv_idx[idx]])"
   ],
   "metadata": {
    "collapsed": false,
    "pycharm": {
     "name": "#%%\n"
    }
   }
  }
 ],
 "metadata": {
  "kernelspec": {
   "display_name": "Python 3",
   "language": "python",
   "name": "python3"
  },
  "language_info": {
   "codemirror_mode": {
    "name": "ipython",
    "version": 2
   },
   "file_extension": ".py",
   "mimetype": "text/x-python",
   "name": "python",
   "nbconvert_exporter": "python",
   "pygments_lexer": "ipython2",
   "version": "2.7.6"
  }
 },
 "nbformat": 4,
 "nbformat_minor": 0
}